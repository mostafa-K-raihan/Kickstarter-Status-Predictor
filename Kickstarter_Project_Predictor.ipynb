{
 "cells": [
  {
   "cell_type": "code",
   "execution_count": 6,
   "metadata": {},
   "outputs": [
    {
     "name": "stdout",
     "output_type": "stream",
     "text": [
      "['Kickstarter_2021-03-18T03_20_11_507Z/Kickstarter.csv', 'Kickstarter_2021-03-18T03_20_11_507Z/Kickstarter001.csv', 'Kickstarter_2021-03-18T03_20_11_507Z/Kickstarter002.csv', 'Kickstarter_2021-03-18T03_20_11_507Z/Kickstarter003.csv', 'Kickstarter_2021-03-18T03_20_11_507Z/Kickstarter004.csv', 'Kickstarter_2021-03-18T03_20_11_507Z/Kickstarter005.csv', 'Kickstarter_2021-03-18T03_20_11_507Z/Kickstarter006.csv', 'Kickstarter_2021-03-18T03_20_11_507Z/Kickstarter007.csv', 'Kickstarter_2021-03-18T03_20_11_507Z/Kickstarter008.csv', 'Kickstarter_2021-03-18T03_20_11_507Z/Kickstarter009.csv', 'Kickstarter_2021-03-18T03_20_11_507Z/Kickstarter010.csv', 'Kickstarter_2021-03-18T03_20_11_507Z/Kickstarter011.csv', 'Kickstarter_2021-03-18T03_20_11_507Z/Kickstarter012.csv', 'Kickstarter_2021-03-18T03_20_11_507Z/Kickstarter013.csv', 'Kickstarter_2021-03-18T03_20_11_507Z/Kickstarter014.csv', 'Kickstarter_2021-03-18T03_20_11_507Z/Kickstarter015.csv', 'Kickstarter_2021-03-18T03_20_11_507Z/Kickstarter016.csv', 'Kickstarter_2021-03-18T03_20_11_507Z/Kickstarter017.csv', 'Kickstarter_2021-03-18T03_20_11_507Z/Kickstarter018.csv', 'Kickstarter_2021-03-18T03_20_11_507Z/Kickstarter019.csv', 'Kickstarter_2021-03-18T03_20_11_507Z/Kickstarter020.csv', 'Kickstarter_2021-03-18T03_20_11_507Z/Kickstarter021.csv', 'Kickstarter_2021-03-18T03_20_11_507Z/Kickstarter022.csv', 'Kickstarter_2021-03-18T03_20_11_507Z/Kickstarter023.csv', 'Kickstarter_2021-03-18T03_20_11_507Z/Kickstarter024.csv', 'Kickstarter_2021-03-18T03_20_11_507Z/Kickstarter025.csv', 'Kickstarter_2021-03-18T03_20_11_507Z/Kickstarter026.csv', 'Kickstarter_2021-03-18T03_20_11_507Z/Kickstarter027.csv', 'Kickstarter_2021-03-18T03_20_11_507Z/Kickstarter028.csv', 'Kickstarter_2021-03-18T03_20_11_507Z/Kickstarter029.csv', 'Kickstarter_2021-03-18T03_20_11_507Z/Kickstarter030.csv', 'Kickstarter_2021-03-18T03_20_11_507Z/Kickstarter031.csv', 'Kickstarter_2021-03-18T03_20_11_507Z/Kickstarter032.csv', 'Kickstarter_2021-03-18T03_20_11_507Z/Kickstarter033.csv', 'Kickstarter_2021-03-18T03_20_11_507Z/Kickstarter034.csv', 'Kickstarter_2021-03-18T03_20_11_507Z/Kickstarter035.csv', 'Kickstarter_2021-03-18T03_20_11_507Z/Kickstarter036.csv', 'Kickstarter_2021-03-18T03_20_11_507Z/Kickstarter037.csv', 'Kickstarter_2021-03-18T03_20_11_507Z/Kickstarter038.csv', 'Kickstarter_2021-03-18T03_20_11_507Z/Kickstarter039.csv', 'Kickstarter_2021-03-18T03_20_11_507Z/Kickstarter040.csv', 'Kickstarter_2021-03-18T03_20_11_507Z/Kickstarter041.csv', 'Kickstarter_2021-03-18T03_20_11_507Z/Kickstarter042.csv', 'Kickstarter_2021-03-18T03_20_11_507Z/Kickstarter043.csv', 'Kickstarter_2021-03-18T03_20_11_507Z/Kickstarter044.csv', 'Kickstarter_2021-03-18T03_20_11_507Z/Kickstarter045.csv', 'Kickstarter_2021-03-18T03_20_11_507Z/Kickstarter046.csv', 'Kickstarter_2021-03-18T03_20_11_507Z/Kickstarter047.csv', 'Kickstarter_2021-03-18T03_20_11_507Z/Kickstarter048.csv', 'Kickstarter_2021-03-18T03_20_11_507Z/Kickstarter049.csv', 'Kickstarter_2021-03-18T03_20_11_507Z/Kickstarter050.csv', 'Kickstarter_2021-03-18T03_20_11_507Z/Kickstarter051.csv', 'Kickstarter_2021-03-18T03_20_11_507Z/Kickstarter052.csv', 'Kickstarter_2021-03-18T03_20_11_507Z/Kickstarter053.csv', 'Kickstarter_2021-03-18T03_20_11_507Z/Kickstarter054.csv', 'Kickstarter_2021-03-18T03_20_11_507Z/Kickstarter055.csv', 'Kickstarter_2021-03-18T03_20_11_507Z/Kickstarter056.csv', 'Kickstarter_2021-03-18T03_20_11_507Z/Kickstarter057.csv']\n"
     ]
    }
   ],
   "source": [
    "# storing data files in an array\n",
    "import os\n",
    "data_folder_name = 'Kickstarter_2021-03-18T03_20_11_507Z'\n",
    "data_files = []\n",
    "for root, dirs, files in os.walk(data_folder_name):\n",
    "    for file in files:\n",
    "        data_files.append(os.path.join(root, file))\n",
    "\n",
    "# sorted based on file names\n",
    "data_files = sorted(data_files)\n",
    "print(data_files)"
   ]
  },
  {
   "cell_type": "code",
   "execution_count": 18,
   "metadata": {},
   "outputs": [
    {
     "name": "stdout",
     "output_type": "stream",
     "text": [
      "<class 'pandas.core.frame.DataFrame'>\n",
      "Int64Index: 213583 entries, 0 to 3446\n",
      "Data columns (total 38 columns):\n",
      " #   Column                    Non-Null Count   Dtype  \n",
      "---  ------                    --------------   -----  \n",
      " 0   backers_count             213583 non-null  int64  \n",
      " 1   blurb                     213576 non-null  object \n",
      " 2   category                  213583 non-null  object \n",
      " 3   converted_pledged_amount  213583 non-null  int64  \n",
      " 4   country                   213583 non-null  object \n",
      " 5   country_displayable_name  213583 non-null  object \n",
      " 6   created_at                213583 non-null  int64  \n",
      " 7   creator                   213583 non-null  object \n",
      " 8   currency                  213583 non-null  object \n",
      " 9   currency_symbol           213583 non-null  object \n",
      " 10  currency_trailing_code    213583 non-null  bool   \n",
      " 11  current_currency          213583 non-null  object \n",
      " 12  deadline                  213583 non-null  int64  \n",
      " 13  disable_communication     213583 non-null  bool   \n",
      " 14  friends                   96 non-null      object \n",
      " 15  fx_rate                   213583 non-null  float64\n",
      " 16  goal                      213583 non-null  float64\n",
      " 17  id                        213583 non-null  int64  \n",
      " 18  is_backing                96 non-null      object \n",
      " 19  is_starrable              213583 non-null  bool   \n",
      " 20  is_starred                96 non-null      object \n",
      " 21  launched_at               213583 non-null  int64  \n",
      " 22  location                  213370 non-null  object \n",
      " 23  name                      213583 non-null  object \n",
      " 24  permissions               96 non-null      object \n",
      " 25  photo                     213583 non-null  object \n",
      " 26  pledged                   213583 non-null  float64\n",
      " 27  profile                   213583 non-null  object \n",
      " 28  slug                      213583 non-null  object \n",
      " 29  source_url                213583 non-null  object \n",
      " 30  spotlight                 213583 non-null  bool   \n",
      " 31  staff_pick                213583 non-null  bool   \n",
      " 32  state                     213583 non-null  object \n",
      " 33  state_changed_at          213583 non-null  int64  \n",
      " 34  static_usd_rate           213583 non-null  float64\n",
      " 35  urls                      213583 non-null  object \n",
      " 36  usd_pledged               213583 non-null  float64\n",
      " 37  usd_type                  213511 non-null  object \n",
      "dtypes: bool(5), float64(5), int64(7), object(21)\n",
      "memory usage: 56.4+ MB\n"
     ]
    }
   ],
   "source": [
    "# import panda and numpy\n",
    "import pandas as pd\n",
    "import numpy as np\n",
    "\n",
    "\n",
    "# read the first data file\n",
    "# df = pd.read_csv(data_files[0])\n",
    "\n",
    "# read all the files at one go\n",
    "df = pd.concat(pd.read_csv(f) for f in data_files)\n",
    "\n",
    "# get the info about the dimensions\n",
    "df.info()"
   ]
  },
  {
   "cell_type": "code",
   "execution_count": null,
   "metadata": {},
   "outputs": [],
   "source": []
  },
  {
   "cell_type": "code",
   "execution_count": 19,
   "metadata": {},
   "outputs": [
    {
     "data": {
      "text/plain": [
       "successful    125856\n",
       "failed         72744\n",
       "canceled        8960\n",
       "live            6023\n",
       "Name: state, dtype: int64"
      ]
     },
     "execution_count": 19,
     "metadata": {},
     "output_type": "execute_result"
    }
   ],
   "source": [
    "df['state'].value_counts()"
   ]
  }
 ],
 "metadata": {
  "kernelspec": {
   "display_name": "Python 3",
   "language": "python",
   "name": "python3"
  },
  "language_info": {
   "codemirror_mode": {
    "name": "ipython",
    "version": 3
   },
   "file_extension": ".py",
   "mimetype": "text/x-python",
   "name": "python",
   "nbconvert_exporter": "python",
   "pygments_lexer": "ipython3",
   "version": "3.8.5"
  }
 },
 "nbformat": 4,
 "nbformat_minor": 4
}
